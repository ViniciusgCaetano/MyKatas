{
 "cells": [
  {
   "cell_type": "markdown",
   "id": "bcee0aa4-e721-4f0a-bca3-54f7f389502f",
   "metadata": {},
   "source": [
    "Nesting Structure Comparison\n",
    "\n",
    "Complete the function/method (depending on the language) to return true/True when its argument is an array that has the same nesting structures and same corresponding length of nested arrays as the first array.<br>\n",
    "For example:\n",
    "\n",
    "```PYTHON\n",
    "# should return True\n",
    "same_structure_as([ 1, 1, 1 ], [ 2, 2, 2 ] )\n",
    "same_structure_as([ 1, [ 1, 1 ] ], [ 2, [ 2, 2 ] ] )\n",
    "\n",
    "# should return False \n",
    "same_structure_as([ 1, [ 1, 1 ] ], [ [ 2, 2 ], 2 ] )\n",
    "same_structure_as([ 1, [ 1, 1 ] ], [ [ 2 ], 2 ] )\n",
    "\n",
    "# should return True\n",
    "same_structure_as([ [ [ ], [ ] ] ], [ [ [ ], [ ] ] ] )\n",
    "\n",
    "# should return False\n",
    "same_structure_as([ [ [ ], [ ] ] ], [ [ 1, 1 ] ] )\n",
    "```"
   ]
  },
  {
   "cell_type": "code",
   "execution_count": 55,
   "id": "5e504142-a571-465a-a30c-93303a3ea37a",
   "metadata": {},
   "outputs": [],
   "source": [
    "def same_structure_as(original,other):\n",
    "    if type(original) != type(other):\n",
    "            return False\n",
    "    if type(original) == list:\n",
    "        if len(original) != len(other):\n",
    "            return False       \n",
    "        for el1, el2 in zip(original, other):\n",
    "            print(el1, el2)\n",
    "            if not same_structure_as(el1, el2):\n",
    "                return False\n",
    "    return True"
   ]
  },
  {
   "cell_type": "code",
   "execution_count": null,
   "id": "67da785e-f2de-4c1f-8630-da14c53ceda3",
   "metadata": {},
   "outputs": [],
   "source": []
  },
  {
   "cell_type": "code",
   "execution_count": 56,
   "id": "6ee46764-760c-4b13-a588-1f5bf046c1c5",
   "metadata": {},
   "outputs": [
    {
     "name": "stdout",
     "output_type": "stream",
     "text": [
      "1 2\n",
      "1 2\n",
      "1 2\n"
     ]
    },
    {
     "data": {
      "text/plain": [
       "True"
      ]
     },
     "execution_count": 56,
     "metadata": {},
     "output_type": "execute_result"
    }
   ],
   "source": [
    "same_structure_as([ 1, 1, 1 ], [ 2, 2, 2 ] )"
   ]
  },
  {
   "cell_type": "code",
   "execution_count": 57,
   "id": "6adedd3a-d229-4b6a-8669-8d25cb9739e9",
   "metadata": {},
   "outputs": [
    {
     "name": "stdout",
     "output_type": "stream",
     "text": [
      "1 2\n",
      "[1, 1] [2, 2]\n",
      "1 2\n",
      "1 2\n"
     ]
    },
    {
     "data": {
      "text/plain": [
       "True"
      ]
     },
     "execution_count": 57,
     "metadata": {},
     "output_type": "execute_result"
    }
   ],
   "source": [
    "same_structure_as([ 1, [ 1, 1 ] ], [ 2, [ 2, 2 ] ] )"
   ]
  },
  {
   "cell_type": "code",
   "execution_count": 58,
   "id": "1004cf5c-9836-4254-a422-f80a457f8c93",
   "metadata": {},
   "outputs": [
    {
     "name": "stdout",
     "output_type": "stream",
     "text": [
      "1 [2, 2]\n"
     ]
    },
    {
     "data": {
      "text/plain": [
       "False"
      ]
     },
     "execution_count": 58,
     "metadata": {},
     "output_type": "execute_result"
    }
   ],
   "source": [
    "same_structure_as([ 1, [ 1, 1 ] ], [ [ 2, 2 ], 2 ] )\n"
   ]
  },
  {
   "cell_type": "code",
   "execution_count": 59,
   "id": "95285d03-b10f-4e9c-8669-8d86b869e251",
   "metadata": {},
   "outputs": [
    {
     "name": "stdout",
     "output_type": "stream",
     "text": [
      "[[], []] [1, 1]\n",
      "[] 1\n"
     ]
    },
    {
     "data": {
      "text/plain": [
       "False"
      ]
     },
     "execution_count": 59,
     "metadata": {},
     "output_type": "execute_result"
    }
   ],
   "source": [
    "same_structure_as([ [ [ ], [ ] ] ], [ [ 1, 1 ] ] )"
   ]
  },
  {
   "cell_type": "code",
   "execution_count": null,
   "id": "d51a6454-3c8a-4168-a46a-079b1375e232",
   "metadata": {},
   "outputs": [],
   "source": []
  }
 ],
 "metadata": {
  "kernelspec": {
   "display_name": "Python 3 (ipykernel)",
   "language": "python",
   "name": "python3"
  },
  "language_info": {
   "codemirror_mode": {
    "name": "ipython",
    "version": 3
   },
   "file_extension": ".py",
   "mimetype": "text/x-python",
   "name": "python",
   "nbconvert_exporter": "python",
   "pygments_lexer": "ipython3",
   "version": "3.10.7"
  }
 },
 "nbformat": 4,
 "nbformat_minor": 5
}
