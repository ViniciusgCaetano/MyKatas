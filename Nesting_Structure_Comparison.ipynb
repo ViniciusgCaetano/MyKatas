{
 "cells": [
  {
   "cell_type": "markdown",
   "id": "bcee0aa4-e721-4f0a-bca3-54f7f389502f",
   "metadata": {},
   "source": [
    "# Nesting Structure Comparison\n",
    "\n",
    "Complete the function/method (depending on the language) to return true/True when its argument is an array that has the same nesting structures and same corresponding length of nested arrays as the first array.<br>\n",
    "For example:\n",
    "\n",
    "```PYTHON\n",
    "# should return True\n",
    "same_structure_as([ 1, 1, 1 ], [ 2, 2, 2 ] )\n",
    "same_structure_as([ 1, [ 1, 1 ] ], [ 2, [ 2, 2 ] ] )\n",
    "\n",
    "# should return False \n",
    "same_structure_as([ 1, [ 1, 1 ] ], [ [ 2, 2 ], 2 ] )\n",
    "same_structure_as([ 1, [ 1, 1 ] ], [ [ 2 ], 2 ] )\n",
    "\n",
    "# should return True\n",
    "same_structure_as([ [ [ ], [ ] ] ], [ [ [ ], [ ] ] ] )\n",
    "\n",
    "# should return False\n",
    "same_structure_as([ [ [ ], [ ] ] ], [ [ 1, 1 ] ] )\n",
    "```"
   ]
  },
  {
   "cell_type": "code",
   "execution_count": 64,
   "id": "5e504142-a571-465a-a30c-93303a3ea37a",
   "metadata": {},
   "outputs": [],
   "source": [
    "def same_structure_as(original,other):\n",
    "    if type(original) != type(other):\n",
    "            return False\n",
    "    if type(original) == list:\n",
    "        if len(original) != len(other):\n",
    "            return False       \n",
    "        for el1, el2 in zip(original, other):\n",
    "            if not same_structure_as(el1, el2):\n",
    "                return False\n",
    "    return True"
   ]
  },
  {
   "cell_type": "code",
   "execution_count": 65,
   "id": "67da785e-f2de-4c1f-8630-da14c53ceda3",
   "metadata": {},
   "outputs": [
    {
     "name": "stdout",
     "output_type": "stream",
     "text": [
      "\n",
      "<PASSED::>Test Passed\n",
      "\n",
      "<PASSED::>Test Passed\n"
     ]
    }
   ],
   "source": [
    "import codewars_test as test\n",
    "\n",
    "test.assert_equals(same_structure_as([1,[1,1]],[2,[2,2]]), True, \"[1,[1,1]] same as [2,[2,2]]\")\n",
    "test.assert_equals(same_structure_as([1,[1,1]],[[2,2],2]), False, \"[1,[1,1]] not same as [[2,2],2]\")"
   ]
  }
 ],
 "metadata": {
  "kernelspec": {
   "display_name": "Python 3 (ipykernel)",
   "language": "python",
   "name": "python3"
  },
  "language_info": {
   "codemirror_mode": {
    "name": "ipython",
    "version": 3
   },
   "file_extension": ".py",
   "mimetype": "text/x-python",
   "name": "python",
   "nbconvert_exporter": "python",
   "pygments_lexer": "ipython3",
   "version": "3.10.7"
  }
 },
 "nbformat": 4,
 "nbformat_minor": 5
}
