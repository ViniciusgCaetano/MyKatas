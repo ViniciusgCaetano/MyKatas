{
 "cells": [
  {
   "cell_type": "markdown",
   "id": "f7c26319",
   "metadata": {},
   "source": [
    "Write a function with the signature shown below:\n",
    "\n",
    "> def is_int_array(arr):<p>\n",
    ">    return True\n",
    ">\n",
    "\n",
    "returns true / True if every element in an array is an integer or a float with no decimals. <br>\n",
    "returns true / True if array is empty. <br>\n",
    "returns false / False for every other input. <br>\n"
   ]
  },
  {
   "cell_type": "code",
   "execution_count": 28,
   "id": "06330eb2",
   "metadata": {},
   "outputs": [],
   "source": [
    "def is_int_array(arr):\n",
    "    if arr:\n",
    "        test_array = [True if x % 1 == 0 and isinstance(x, int) else False for x in arr]\n",
    "        if len(set(test_array)) == 1 and list(set(test_array))[0] == True :\n",
    "            return True\n",
    "        else:\n",
    "            return False\n",
    "            \n",
    "    else:\n",
    "        return True"
   ]
  },
  {
   "cell_type": "code",
   "execution_count": 29,
   "id": "7dbbdcc9",
   "metadata": {},
   "outputs": [
    {
     "data": {
      "text/plain": [
       "False"
      ]
     },
     "execution_count": 29,
     "metadata": {},
     "output_type": "execute_result"
    }
   ],
   "source": [
    "arr = [2, 5, 6.1]\n",
    "test_array = [True if x % 1 == 0 and x > 0 else False for x in arr]\n",
    "a = list(set(test_array))\n",
    "a[0]"
   ]
  },
  {
   "cell_type": "code",
   "execution_count": null,
   "id": "c6179e29",
   "metadata": {},
   "outputs": [],
   "source": []
  }
 ],
 "metadata": {
  "kernelspec": {
   "display_name": "Python 3",
   "language": "python",
   "name": "python3"
  },
  "language_info": {
   "codemirror_mode": {
    "name": "ipython",
    "version": 3
   },
   "file_extension": ".py",
   "mimetype": "text/x-python",
   "name": "python",
   "nbconvert_exporter": "python",
   "pygments_lexer": "ipython3",
   "version": "3.8.8"
  }
 },
 "nbformat": 4,
 "nbformat_minor": 5
}
