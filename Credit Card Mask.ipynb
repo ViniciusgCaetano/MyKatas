{
 "cells": [
  {
   "cell_type": "markdown",
   "id": "0b917798",
   "metadata": {},
   "source": [
    "Usually when you buy something, you're asked whether your credit card number, phone number or answer to your most secret question is still correct. However, since someone could look over your shoulder, you don't want that shown on your screen. Instead, we mask it.\n",
    "\n",
    "Your task is to write a function maskify, which changes all but the last four characters into '#'."
   ]
  },
  {
   "cell_type": "code",
   "execution_count": 77,
   "id": "e3896bb9",
   "metadata": {},
   "outputs": [],
   "source": [
    "def maskify(cc):\n",
    "    if len(cc) < 4:\n",
    "        return cc\n",
    "    cc = list(cc)\n",
    "    for i in enumerate(cc[:-4]):\n",
    "        cc[i[0]] = \"#\"\n",
    "    return \"\".join(cc)"
   ]
  },
  {
   "cell_type": "code",
   "execution_count": 78,
   "id": "ad8cbc65",
   "metadata": {},
   "outputs": [
    {
     "data": {
      "text/plain": [
       "'####cius'"
      ]
     },
     "execution_count": 78,
     "metadata": {},
     "output_type": "execute_result"
    }
   ],
   "source": [
    "maskify('Vinicius')"
   ]
  }
 ],
 "metadata": {
  "kernelspec": {
   "display_name": "Python 3",
   "language": "python",
   "name": "python3"
  },
  "language_info": {
   "codemirror_mode": {
    "name": "ipython",
    "version": 3
   },
   "file_extension": ".py",
   "mimetype": "text/x-python",
   "name": "python",
   "nbconvert_exporter": "python",
   "pygments_lexer": "ipython3",
   "version": "3.8.8"
  }
 },
 "nbformat": 4,
 "nbformat_minor": 5
}
