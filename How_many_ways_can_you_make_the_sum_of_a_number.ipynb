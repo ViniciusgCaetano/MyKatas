{
 "cells": [
  {
   "cell_type": "markdown",
   "id": "6d53d36c-4afd-4911-9d99-ea2680720989",
   "metadata": {},
   "source": [
    "# How many ways can you make the sum of a number?\n",
    "\n",
    "From wikipedia: https://en.wikipedia.org/wiki/Partition_(number_theory)\n",
    "\n",
    "In number theory and combinatorics, a partition of a positive integer n, also called an integer partition, is a way of writing n as a sum of positive integers. Two sums that differ only in the order of their summands are considered the same partition. If order matters, the sum becomes a composition. For example, 4 can be partitioned in five distinct ways:\n",
    "\n",
    "```\n",
    "4\n",
    "3 + 1\n",
    "2 + 2\n",
    "2 + 1 + 1\n",
    "1 + 1 + 1 + 1\n",
    "```\n",
    "\n",
    "```\n",
    "exp_sum(1) # 1\n",
    "exp_sum(2) # 2  -> 1+1 , 2\n",
    "exp_sum(3) # 3 -> 1+1+1, 1+2, 3\n",
    "exp_sum(4) # 5 -> 1+1+1+1, 1+1+2, 1+3, 2+2, 4\n",
    "exp_sum(5) # 7 -> 1+1+1+1+1, 1+1+1+2, 1+1+3, 1+2+2, 1+4, 5, 2+3\n",
    "\n",
    "exp_sum(10) # 42\n",
    "```"
   ]
  },
  {
   "cell_type": "code",
   "execution_count": 42,
   "id": "1c29a1c0-f71a-4da8-b69c-7b61997667c4",
   "metadata": {},
   "outputs": [],
   "source": [
    "import time\n",
    "\n",
    "def exp_sum(n):\n",
    "    if n == 1:\n",
    "        return 1\n",
    "    if n == 2:\n",
    "        return 2\n",
    "    \n",
    "    if n % 2 == 1:\n",
    "        return exp_sum(n//2) * exp_sum((n//2)+1) + 1\n",
    "    else:\n",
    "        return exp_sum(n//2) * exp_sum((n//2)) + 1"
   ]
  },
  {
   "cell_type": "code",
   "execution_count": 45,
   "id": "3c5e0b6b-62bf-4e09-87c4-3c770310233d",
   "metadata": {},
   "outputs": [
    {
     "data": {
      "text/plain": [
       "50"
      ]
     },
     "execution_count": 45,
     "metadata": {},
     "output_type": "execute_result"
    }
   ],
   "source": [
    "exp_sum(10)"
   ]
  },
  {
   "cell_type": "code",
   "execution_count": null,
   "id": "9e3e6408-ceb7-4a33-bbc6-0a316d931f0b",
   "metadata": {},
   "outputs": [],
   "source": []
  }
 ],
 "metadata": {
  "kernelspec": {
   "display_name": "Python 3 (ipykernel)",
   "language": "python",
   "name": "python3"
  },
  "language_info": {
   "codemirror_mode": {
    "name": "ipython",
    "version": 3
   },
   "file_extension": ".py",
   "mimetype": "text/x-python",
   "name": "python",
   "nbconvert_exporter": "python",
   "pygments_lexer": "ipython3",
   "version": "3.10.7"
  }
 },
 "nbformat": 4,
 "nbformat_minor": 5
}
