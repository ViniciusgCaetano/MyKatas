{
 "cells": [
  {
   "cell_type": "markdown",
   "id": "020ecb0b",
   "metadata": {},
   "source": [
    "# Kata01: Supermarket Pricing\n",
    "This kata arose from some discussions we’ve been having at the DFW Practioners meetings. The problem domain is something seemingly simple: pricing goods at supermarkets.\n",
    "\n",
    "Some things in supermarkets have simple prices: this can of beans costs $0.65. Other things have more complex prices. For example:\n",
    "\n",
    "- three for a dollar (so what’s the price if I buy 4, or 5?)\n",
    "- $1.99/pound (so what does 4 ounces cost?)\n",
    "- buy two, get one free (so does the third item have a price?)\n",
    "\n",
    "This kata involves no coding. The exercise is to experiment with various models for representing money and prices that are flexible enough to deal with these (and other) pricing schemes, and at the same time are generally usable (at the checkout, for stock management, order entry, and so on). Spend time considering issues such as:\n",
    "\n",
    "- does fractional money exist?\n",
    "- when (if ever) does rounding take place?\n",
    "- how do you keep an audit trail of pricing decisions (and do you need to)?\n",
    "- are costs and prices the same class of thing?\n",
    "- if a shelf of 100 cans is priced using “buy two, get one free”, how do you value the stock?\n",
    "This is an ideal shower-time kata, but be careful. Some of the problems are more subtle than they first appear. I suggest that it might take a couple of weeks worth of showers to exhaust the main alternatives.\n",
    "\n",
    "### Goal\n",
    "The goal of this kata is to practice a looser style of experimental modelling. Look for as many different ways of handling the issues as possible. Consider the various tradeoffs of each. What techniques are best for exploring these models? For recording them? How can you validate a model is reasonable?\n",
    "\n",
    "### What’s a Code Kata?\n",
    "As a group, software developers don’t practice enough. Most of our learning takes place on the job, which means that most of our mistakes get made there as well. Other creative professions practice: artists carry a sketchpad, musicians play technical pieces, poets constantly rewrite works. In karate, where the aim is to learn to spar or fight, most of a student’s time is spent learning and refining basic moves. The more formal of these exercises are called kata.\n",
    "\n",
    "To help developers get the same benefits from practicing, we’re putting together a series of code kata: simple, artificial exercises which let us experiment and learn without the pressure of a production environment. Our suggestions for doing the kata are:\n",
    "\n",
    "find a place and time where you won’t be interrupted\n",
    "focus on the essential elements of the kata\n",
    "remember to look for feedback for every major decision\n",
    "if it helps, keep a journal of your progress\n",
    "have discussion groups with other developers, but try to have completed the kata first\n",
    "There are no right or wrong answers in these kata: the benefit comes from the process, not from the result.\n",
    "\n",
    "[Link to web page](http://codekata.com/kata/kata01-supermarket-pricing/)"
   ]
  },
  {
   "cell_type": "code",
   "execution_count": 16,
   "id": "e9dedd2b",
   "metadata": {
    "scrolled": true
   },
   "outputs": [],
   "source": [
    "# Resolução\n",
    "\n",
    "class Produto:\n",
    "    def __init__(self, nome, valor):\n",
    "        self.nome = nome\n",
    "        self.valor = valor\n",
    "\n",
    "class Promocao_CompreXGanheMaisY:\n",
    "    def __init__(self, unidades_pagas, unidades_gratis):\n",
    "        self.unidades_pagas = unidades_pagas\n",
    "        self.unidades_gratis = unidades_gratis\n",
    "        \n",
    "    def calcula(self, produto, quantidade):\n",
    "        quantidade_gratis = (quantidade // (self.unidades_pagas + self.unidades_gratis)) * self.unidades_gratis\n",
    "        quantidade_paga = quantidade - quantidade_gratis\n",
    "        return produto.valor * quantidade_paga\n",
    "\n",
    "    \n",
    "class Promocao_XunidadesPorYpreco:\n",
    "    def __init__(self, unidades, preco):\n",
    "        self.unidades = unidades\n",
    "        self.preco = preco\n",
    "        \n",
    "    \n",
    "    def calcula(self, produto, quantidade):\n",
    "        elegiveis = quantidade // self.unidades\n",
    "        nao_elegiveis = quantidade - elegiveis * self.unidades\n",
    "        return elegiveis * self.preco + nao_elegiveis * produto.valor\n",
    "        \n",
    "\n",
    "class SemPromocao:\n",
    "    def calcula(self, produto, quantidade):\n",
    "        return produto.valor * quantidade\n",
    "    \n",
    "    \n",
    "class Caixa:\n",
    "    def __init__(self):\n",
    "        self.nota_fiscal = {}\n",
    "        \n",
    "    \n",
    "    def calculaPreco(self, produto, quantidade, promocao):\n",
    "        \n",
    "        self.nota_fiscal[produto.nome] = promocao.calcula(produto, quantidade)\n",
    "        return(f'{produto.nome} : {promocao.calcula(produto, quantidade)}')\n",
    "    \n",
    "    def notaFiscal(self):\n",
    "        for item in self.nota_fiscal:\n",
    "            print(f'{item} ----------- R${self.nota_fiscal[item]}')\n",
    "        print('-' * 30)\n",
    "        print('Total ' + '-'*15 + ' R$'+str(sum(self.nota_fiscal.values())))"
   ]
  },
  {
   "cell_type": "code",
   "execution_count": 21,
   "id": "39dd9cd0",
   "metadata": {},
   "outputs": [
    {
     "name": "stdout",
     "output_type": "stream",
     "text": [
      "Feijão ----------- R$36\n",
      "Melão ----------- R$52\n",
      "Milho ----------- R$6\n",
      "------------------------------\n",
      "Total --------------- R$94\n"
     ]
    }
   ],
   "source": [
    "abacaxi = Produto('Abacaxi', 50.0)\n",
    "melao = Produto('Melão', 13)\n",
    "milho = Produto('Milho', 2)\n",
    "fejao = Produto('Feijão', 3)\n",
    "\n",
    "caixa = Caixa()\n",
    "caixa.calculaPreco(fejao, 100, Promocao_XunidadesPorYpreco(3, 1))\n",
    "caixa.calculaPreco(melao, 4, SemPromocao())\n",
    "caixa.calculaPreco(milho, 4, Promocao_CompreXGanheMaisY(2, 1))\n",
    "caixa.notaFiscal()"
   ]
  },
  {
   "cell_type": "code",
   "execution_count": null,
   "id": "5f1fff5c",
   "metadata": {},
   "outputs": [],
   "source": []
  },
  {
   "cell_type": "code",
   "execution_count": null,
   "id": "021f5d0a",
   "metadata": {},
   "outputs": [],
   "source": []
  },
  {
   "cell_type": "code",
   "execution_count": null,
   "id": "731760f6",
   "metadata": {},
   "outputs": [],
   "source": []
  },
  {
   "cell_type": "code",
   "execution_count": null,
   "id": "a8a85f04",
   "metadata": {},
   "outputs": [],
   "source": []
  },
  {
   "cell_type": "code",
   "execution_count": null,
   "id": "e0c9a03a",
   "metadata": {},
   "outputs": [],
   "source": []
  }
 ],
 "metadata": {
  "kernelspec": {
   "display_name": "Python 3",
   "language": "python",
   "name": "python3"
  },
  "language_info": {
   "codemirror_mode": {
    "name": "ipython",
    "version": 3
   },
   "file_extension": ".py",
   "mimetype": "text/x-python",
   "name": "python",
   "nbconvert_exporter": "python",
   "pygments_lexer": "ipython3",
   "version": "3.8.8"
  }
 },
 "nbformat": 4,
 "nbformat_minor": 5
}
