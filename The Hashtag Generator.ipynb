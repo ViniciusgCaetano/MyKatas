{
 "cells": [
  {
   "cell_type": "markdown",
   "id": "06072ccb",
   "metadata": {},
   "source": [
    "The marketing team is spending way too much time typing in hashtags.\n",
    "Let's help them with our own Hashtag Generator!\n",
    "\n",
    "Here's the deal:\n",
    "\n",
    "- It must start with a hashtag (#).\n",
    "\n",
    "- All words must have their first letter capitalized.\n",
    "\n",
    "- If the final result is longer than 140 chars it must return false.\n",
    "\n",
    "- If the input or the result is an empty string it must return false."
   ]
  },
  {
   "cell_type": "code",
   "execution_count": 1,
   "id": "436e6cb9",
   "metadata": {},
   "outputs": [],
   "source": [
    "def generate_hashtag(s):\n",
    "    \n",
    "    if (not s) or len(s) > 139:\n",
    "        return False\n",
    "    \n",
    "    s = s.title()\n",
    "    s = s.strip()\n",
    "    s = s.split()\n",
    "    s = \"\".join(s)\n",
    "    return '#' + s"
   ]
  }
 ],
 "metadata": {
  "kernelspec": {
   "display_name": "Python 3 (ipykernel)",
   "language": "python",
   "name": "python3"
  },
  "language_info": {
   "codemirror_mode": {
    "name": "ipython",
    "version": 3
   },
   "file_extension": ".py",
   "mimetype": "text/x-python",
   "name": "python",
   "nbconvert_exporter": "python",
   "pygments_lexer": "ipython3",
   "version": "3.10.7"
  }
 },
 "nbformat": 4,
 "nbformat_minor": 5
}
