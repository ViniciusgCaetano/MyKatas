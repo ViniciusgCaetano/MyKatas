{
 "cells": [
  {
   "cell_type": "markdown",
   "id": "09de363d-de72-444e-8f33-d92dc8f865bd",
   "metadata": {},
   "source": [
    "# Roman Numerals Helper\n",
    "\n",
    "Create a RomanNumerals class that can convert a roman numeral to and from an integer value. It should follow the API demonstrated in the examples below. Multiple roman numeral values will be tested for each helper method.\n",
    "\n",
    "Modern Roman numerals are written by expressing each digit separately starting with the left most digit and skipping any digit with a value of zero. In Roman numerals 1990 is rendered: 1000=M, 900=CM, 90=XC; resulting in MCMXC. 2008 is written as 2000=MM, 8=VIII; or MMVIII. 1666 uses each Roman symbol in descending order: MDCLXVI.\n",
    "\n",
    "In this kata 4 should be represented as IV, NOT as IIII (the \"watchmaker's four\").\n",
    "\n",
    "[Link](https://www.codewars.com/kata/51b66044bce5799a7f000003/train/python)\n",
    "\n",
    "\n",
    "```PYTHON\n",
    "    RomanNumerals.to_roman(1000) # should return 'M'\n",
    "    RomanNumerals.from_roman('M') # should return 1000\n",
    "```\n",
    "\n"
   ]
  },
  {
   "cell_type": "code",
   "execution_count": 125,
   "id": "2bf99df4-2809-4e25-ab67-f285776f67cc",
   "metadata": {},
   "outputs": [],
   "source": [
    "class RomanNumerals:\n",
    "    roman_integer = {'M': 1000, 'CM': 900, 'D': 500, 'CD': 400 ,'C': 100, 'XC': 90, \n",
    "                     'L': 50, 'XL': 40, 'X': 10, 'IX': 9, 'V': 5, 'IV': 4, 'I': 1}\n",
    "    integer_roman = {val: key for (key, val) in roman_integer.items()}\n",
    "    \n",
    "    def to_roman(val: int) -> str:\n",
    "        roman_num = ''\n",
    "        while val > 0:\n",
    "            for i in range(0, len(RomanNumerals.integer_roman.keys())):\n",
    "                key = int(list(RomanNumerals.integer_roman.keys())[i])\n",
    "                if val >= key:\n",
    "                    roman_num += RomanNumerals.integer_roman[key]\n",
    "                    val -= key\n",
    "                    break\n",
    "        return roman_num\n",
    "\n",
    "    \n",
    "    def from_roman(roman_num: str) -> int:\n",
    "        total = 0\n",
    "        i = 0\n",
    "        while i < (len(roman_num)):\n",
    "            if(roman_num[i:i+2] in RomanNumerals.roman_integer.keys()):\n",
    "                number = RomanNumerals.roman_integer[roman_num[i:i+2]]\n",
    "                total += number\n",
    "                i += 2\n",
    "            else:\n",
    "                number = RomanNumerals.roman_integer[roman_num[i:i+1]]\n",
    "                total += number\n",
    "                i += 1\n",
    "        return total\n"
   ]
  },
  {
   "cell_type": "code",
   "execution_count": 132,
   "id": "8d655acd-a322-4272-ba85-a768fc741e1a",
   "metadata": {},
   "outputs": [
    {
     "name": "stdout",
     "output_type": "stream",
     "text": [
      "\n",
      "<DESCRIBE::>sample_tests\n",
      "\n",
      "<IT::>to roman\n",
      "\n",
      "<PASSED::>Test Passed\n",
      "\n",
      "<PASSED::>Test Passed\n",
      "\n",
      "<PASSED::>Test Passed\n",
      "\n",
      "<PASSED::>Test Passed\n",
      "\n",
      "<PASSED::>Test Passed\n",
      "\n",
      "<COMPLETEDIN::>4.88\n",
      "\n",
      "<IT::>from roman\n",
      "\n",
      "<PASSED::>Test Passed\n",
      "\n",
      "<PASSED::>Test Passed\n",
      "\n",
      "<PASSED::>Test Passed\n",
      "\n",
      "<PASSED::>Test Passed\n",
      "\n",
      "<PASSED::>Test Passed\n",
      "\n",
      "<COMPLETEDIN::>2.90\n",
      "\n",
      "<COMPLETEDIN::>11.62\n"
     ]
    }
   ],
   "source": [
    "import codewars_test as test\n",
    "\n",
    "\n",
    "@test.describe('sample_tests')\n",
    "def sample_tests():\n",
    "    @test.it('to roman')\n",
    "    def sample_tests_to():\n",
    "        test.assert_equals(RomanNumerals.to_roman(1000), 'M', '1000 should == \"M\"')\n",
    "        test.assert_equals(RomanNumerals.to_roman(4), 'IV', '4 should == \"IV\"')\n",
    "        test.assert_equals(RomanNumerals.to_roman(1), 'I', '1 should == \"I\"')\n",
    "        test.assert_equals(RomanNumerals.to_roman(1990), 'MCMXC', '1990 should == \"MCMXC\"')\n",
    "        test.assert_equals(RomanNumerals.to_roman(2008), 'MMVIII', '2008 should == \"MMVIII\"')\n",
    "    @test.it('from roman')\n",
    "    def sample_tests_from():\n",
    "        test.assert_equals(RomanNumerals.from_roman('XXI'), 21, 'XXI should == 21')\n",
    "        test.assert_equals(RomanNumerals.from_roman('I'), 1, 'I should == 1')\n",
    "        test.assert_equals(RomanNumerals.from_roman('IV'), 4, 'IV should == 4')\n",
    "        test.assert_equals(RomanNumerals.from_roman('MMVIII'), 2008, 'MMVIII should == 2008')\n",
    "        test.assert_equals(RomanNumerals.from_roman('MDCLXVI'), 1666, 'MDCLXVI should == 1666')"
   ]
  }
 ],
 "metadata": {
  "kernelspec": {
   "display_name": "Python 3 (ipykernel)",
   "language": "python",
   "name": "python3"
  },
  "language_info": {
   "codemirror_mode": {
    "name": "ipython",
    "version": 3
   },
   "file_extension": ".py",
   "mimetype": "text/x-python",
   "name": "python",
   "nbconvert_exporter": "python",
   "pygments_lexer": "ipython3",
   "version": "3.10.7"
  }
 },
 "nbformat": 4,
 "nbformat_minor": 5
}
