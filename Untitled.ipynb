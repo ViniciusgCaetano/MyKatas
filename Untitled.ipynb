{
 "cells": [
  {
   "cell_type": "markdown",
   "id": "1eab4dc7",
   "metadata": {},
   "source": [
    "<h1>Task</h1>\n",
    "Given an integral number, determine if it's a square number:"
   ]
  },
  {
   "cell_type": "code",
   "execution_count": null,
   "id": "7ea21ad9",
   "metadata": {},
   "outputs": [],
   "source": [
    "def is_square(n):\n",
    "    if (n * 1/2) * (n * 1/2) == n:\n",
    "        return True\n",
    "    return False"
   ]
  }
 ],
 "metadata": {
  "kernelspec": {
   "display_name": "Python 3",
   "language": "python",
   "name": "python3"
  },
  "language_info": {
   "codemirror_mode": {
    "name": "ipython",
    "version": 3
   },
   "file_extension": ".py",
   "mimetype": "text/x-python",
   "name": "python",
   "nbconvert_exporter": "python",
   "pygments_lexer": "ipython3",
   "version": "3.8.8"
  }
 },
 "nbformat": 4,
 "nbformat_minor": 5
}
