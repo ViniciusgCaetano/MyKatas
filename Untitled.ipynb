{
 "cells": [
  {
   "cell_type": "markdown",
   "id": "f47c046c-b79e-4e58-87e3-8f9fa72ada20",
   "metadata": {},
   "source": [
    "# Chinese Numeral Encoder"
   ]
  },
  {
   "cell_type": "markdown",
   "id": "863dcd2f-efd3-4ed5-bbe4-fe8b876ea033",
   "metadata": {},
   "source": [
    "Create a function that takes a Number as its argument and returns a Chinese numeral string. You don't need to validate the input argument, it will always be a Number in the range [-99999.999, 99999.999], rounded to 8 decimal places.\n",
    "\n",
    "Simplified Chinese numerals have characters representing each number from 0 to 9 and additional numbers representing larger numbers like 10, 100, 1000, and 10000.\n",
    "\n",
    "``` \n",
    "0 líng 零\n",
    "1 yī 一\n",
    "2 èr 二\n",
    "3 sān 三\n",
    "4 sì 四\n",
    "5 wǔ 五\n",
    "6 liù 六\n",
    "7 qī 七\n",
    "8 bā 八\n",
    "9 jiǔ 九\n",
    "10 shí 十\n",
    "100 bǎi 百\n",
    "1000 qiān 千\n",
    "10000 wàn 万\n",
    "```\n",
    "\n",
    "Multiple-digit numbers are constructed by first the digit value (1 to 9) and then the place multiplier (such as 10, 100, 1000), starting with the most significant digit. A special case is made for 10 - 19 where the leading digit value (yī 一) is dropped. Note that this special case is only made for the actual values 10 - 19, not any larger values.\n",
    "\n",
    "```\n",
    "10 十\n",
    "11 十一\n",
    "18 十八\n",
    "21 二十一\n",
    "110 一百一十\n",
    "123 一百二十三\n",
    "24681 二万四千六百八十一\n",
    "```\n",
    "\n",
    "Trailing zeros are omitted, but interior zeros are grouped together and indicated by a single 零 character without giving the place multiplier.\n",
    "\n",
    "```\n",
    "10 十\n",
    "20 二十\n",
    "104 一百零四\n",
    "1004 一千零四\n",
    "10004 一万零四\n",
    "10000 一万\n",
    "```\n",
    "\n",
    "Decimal numbers are constructed by first writing the whole number part, and then inserting a point (diǎn 点), followed by the decimal portion. The decimal portion is expressed using only the digits 0 to 9, without any positional characters and without grouping zeros.\n",
    "\n",
    "```\n",
    "0.1 零点一\n",
    "123.45 一百二十三点四五\n",
    "```\n",
    "\n"
   ]
  },
  {
   "cell_type": "code",
   "execution_count": 1,
   "id": "4b83538c-956c-4cdd-956d-808444c377eb",
   "metadata": {},
   "outputs": [],
   "source": [
    "def to_chinese_numeral(n):\n",
    "    numerals = {\n",
    "        \"-\":\"负\",\n",
    "        \".\":\"点\",\n",
    "        0:\"零\",\n",
    "        1:\"一\",\n",
    "        2:\"二\",\n",
    "        3:\"三\",\n",
    "        4:\"四\",\n",
    "        5:\"五\",\n",
    "        6:\"六\",\n",
    "        7:\"七\",\n",
    "        8:\"八\",\n",
    "        9:\"九\",\n",
    "        10:\"十\",\n",
    "        100:\"百\",\n",
    "        1000:\"千\",\n",
    "        10000:\"万\"\n",
    "    }\n",
    "    \n",
    "    encoded_number = \"\"\n",
    "    \n",
    "    if n < 0:\n",
    "        encoded_number += numerals[\"-\"]\n",
    "    if abs(n) < 1:\n",
    "         encoded_number += numerals[0] + numerals[\".\"]\n",
    "    \n",
    "    def whole_part(n):\n",
    "        "
   ]
  }
 ],
 "metadata": {
  "kernelspec": {
   "display_name": "Python 3 (ipykernel)",
   "language": "python",
   "name": "python3"
  },
  "language_info": {
   "codemirror_mode": {
    "name": "ipython",
    "version": 3
   },
   "file_extension": ".py",
   "mimetype": "text/x-python",
   "name": "python",
   "nbconvert_exporter": "python",
   "pygments_lexer": "ipython3",
   "version": "3.10.7"
  }
 },
 "nbformat": 4,
 "nbformat_minor": 5
}
