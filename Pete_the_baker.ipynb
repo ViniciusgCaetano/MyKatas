{
 "cells": [
  {
   "cell_type": "markdown",
   "id": "bd8a3199-ee51-4a15-904a-37b392be3315",
   "metadata": {},
   "source": [
    "# Pete, the baker"
   ]
  },
  {
   "cell_type": "markdown",
   "id": "6933f464-fb9c-4f39-ba85-f7ac1a6ee9b6",
   "metadata": {},
   "source": [
    "Pete likes to bake some cakes.\n",
    "He has some recipes and ingredients. Unfortunately he is not good in maths. Can you help him to find out, how many cakes he could bake considering his recipes?\n",
    "\n",
    "Write a function cakes(), which takes the recipe (object) and the available ingredients (also an object) and returns the maximum number of cakes Pete can bake (integer). \n",
    "For simplicity there are no units for the amounts (e.g. 1 lb of flour or 200 g of sugar are simply 1 or 200).\n",
    "Ingredients that are not present in the objects, can be considered as 0.\n",
    "\n",
    "[Link](https://www.codewars.com/kata/525c65e51bf619685c000059)"
   ]
  },
  {
   "cell_type": "code",
   "execution_count": null,
   "id": "c57df322-2d5c-4a51-8475-7f41ed163ada",
   "metadata": {},
   "outputs": [],
   "source": [
    "def cakes(recipe, available):\n",
    "    if all(item in recipe.keys() for item in available.keys()) and not len(recipe.keys()) == len(available.keys()):\n",
    "        return 0\n",
    "    if not set(recipe.keys()).issubset(set(available.keys())):\n",
    "        return 0\n",
    "    values = [int(available[i] / recipe[i]) for i in recipe.keys()]\n",
    "    \n",
    "    return min(values)"
   ]
  }
 ],
 "metadata": {
  "kernelspec": {
   "display_name": "Python 3 (ipykernel)",
   "language": "python",
   "name": "python3"
  },
  "language_info": {
   "codemirror_mode": {
    "name": "ipython",
    "version": 3
   },
   "file_extension": ".py",
   "mimetype": "text/x-python",
   "name": "python",
   "nbconvert_exporter": "python",
   "pygments_lexer": "ipython3",
   "version": "3.10.7"
  }
 },
 "nbformat": 4,
 "nbformat_minor": 5
}
