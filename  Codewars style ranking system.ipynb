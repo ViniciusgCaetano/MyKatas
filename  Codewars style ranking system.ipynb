{
 "cells": [
  {
   "cell_type": "markdown",
   "id": "e5cefacf",
   "metadata": {},
   "source": [
    "**Write a class called User that is used to calculate the amount that a user will progress through a ranking system similar to the one Codewars uses.**\n",
    "\n",
    "#### Business Rules:\n",
    "\n",
    "- A user starts at rank -8 and can progress all the way to 8.\n",
    "\n",
    "- There is no 0 (zero) rank. The next rank after -1 is 1.\n",
    "\n",
    "- Users will complete activities. These activities also have ranks.\n",
    "\n",
    "- Each time the user completes a ranked activity the users rank progress is updated based off of the activity's rank\n",
    "\n",
    "- The progress earned from the completed activity is relative to what the user's current rank is compared to the rank of the activity\n",
    "\n",
    "- A user's rank progress starts off at zero, each time the progress reaches 100 the user's rank is upgraded to the next level\n",
    "\n",
    "- Any remaining progress earned while in the previous rank will be applied towards the next rank's progress (we don't throw any progress away). The exception is if there is no other rank left to progress towards (Once you reach rank 8 there is no more progression).\n",
    "\n",
    "- A user cannot progress beyond rank 8.\n",
    "\n",
    "- The only acceptable range of rank values is -8,-7,-6,-5,-4,-3,-2,-1,1,2,3,4,5,6,7,8. Any other value should raise an error.\n",
    "The progress is scored like so:\n",
    "\n",
    "- Completing an activity that is ranked the same as that of the user's will be worth 3 points\n",
    "- Completing an activity that is ranked one ranking lower than the user's will be worth 1 point\n",
    "- Any activities completed that are ranking 2 levels or more lower than the user's ranking will be ignored\n",
    "- Completing an activity ranked higher than the current user's rank will accelerate the rank progression. The greater the difference between rankings the more the progression will be increased. The formula is `10 * d * d` where d equals the difference in ranking between the activity and the user.\n",
    "\n",
    "### Logic Examples:\n",
    "\n",
    "- If a user ranked -8 completes an activity ranked -7 they will receive 10 progress\n",
    "- If a user ranked -8 completes an activity ranked -6 they will receive 40 progress\n",
    "- If a user ranked -8 completes an activity ranked -5 they will receive 90 progress\n",
    "- If a user ranked -8 completes an activity ranked -4 they will receive 160 progress, resulting in the user being upgraded to rank -7 and having earned 60 progress towards their next rank\n",
    "- If a user ranked -1 completes an activity ranked 1 they will receive 10 progress (remember, zero rank is ignored)\n",
    "\n",
    "\n",
    "[Link](https://www.codewars.com/kata/51fda2d95d6efda45e00004e/train/python)"
   ]
  },
  {
   "cell_type": "code",
   "execution_count": 51,
   "id": "571ec732",
   "metadata": {},
   "outputs": [],
   "source": [
    "class User():\n",
    "    rank = -8\n",
    "    def __init__(self):\n",
    "        self.rank = -8\n",
    "        self.progress = 0\n",
    "        \n",
    "    def inc_progress(self, rank):\n",
    "        if (rank == 0) or (rank < -8) or (rank > 8):\n",
    "            raise Exception('Errooo')\n",
    "        \n",
    "        \n",
    "        if rank < 0 and self.rank > 0:\n",
    "            difference = abs(rank - self.rank)\n",
    "        if rank < 0 and self.rank < 0:\n",
    "            difference = abs(self.rank - rank)\n",
    "        if rank > 0 and self.rank < 0:\n",
    "            difference = self.rank - rank\n",
    "        \n",
    "        \n",
    "        if difference <= -2:\n",
    "            pass\n",
    "        \n",
    "        elif rank == -1:\n",
    "            self.progress += 1\n",
    "            \n",
    "        elif rank == self.rank:\n",
    "            self.progress += 3\n",
    "        \n",
    "        else:\n",
    "            self.progress += 10 * difference * difference\n",
    "        \n",
    "        \n",
    "        while self.progress >= 100:\n",
    "            self.progress -= 100\n",
    "            self.rank += 1\n",
    "        "
   ]
  },
  {
   "cell_type": "code",
   "execution_count": 52,
   "id": "bf7c8de0",
   "metadata": {},
   "outputs": [],
   "source": [
    "user = User()"
   ]
  },
  {
   "cell_type": "code",
   "execution_count": 53,
   "id": "d73eaab5",
   "metadata": {},
   "outputs": [
    {
     "data": {
      "text/plain": [
       "-8"
      ]
     },
     "execution_count": 53,
     "metadata": {},
     "output_type": "execute_result"
    }
   ],
   "source": [
    "user.rank"
   ]
  },
  {
   "cell_type": "code",
   "execution_count": 54,
   "id": "ac88c2fc",
   "metadata": {},
   "outputs": [
    {
     "data": {
      "text/plain": [
       "0"
      ]
     },
     "execution_count": 54,
     "metadata": {},
     "output_type": "execute_result"
    }
   ],
   "source": [
    "user.progress"
   ]
  },
  {
   "cell_type": "code",
   "execution_count": 55,
   "id": "32046b4a",
   "metadata": {},
   "outputs": [
    {
     "data": {
      "text/plain": [
       "10"
      ]
     },
     "execution_count": 55,
     "metadata": {},
     "output_type": "execute_result"
    }
   ],
   "source": [
    "user.inc_progress(-7)\n",
    "user.progress"
   ]
  },
  {
   "cell_type": "code",
   "execution_count": 56,
   "id": "849b0c33",
   "metadata": {},
   "outputs": [],
   "source": [
    "user.inc_progress(-5)"
   ]
  },
  {
   "cell_type": "code",
   "execution_count": 57,
   "id": "51be9477",
   "metadata": {},
   "outputs": [
    {
     "data": {
      "text/plain": [
       "0"
      ]
     },
     "execution_count": 57,
     "metadata": {},
     "output_type": "execute_result"
    }
   ],
   "source": [
    "user.progress"
   ]
  },
  {
   "cell_type": "code",
   "execution_count": 58,
   "id": "65e8b5c5",
   "metadata": {},
   "outputs": [
    {
     "data": {
      "text/plain": [
       "-7"
      ]
     },
     "execution_count": 58,
     "metadata": {},
     "output_type": "execute_result"
    }
   ],
   "source": [
    "user.rank"
   ]
  },
  {
   "cell_type": "code",
   "execution_count": null,
   "id": "fae69709",
   "metadata": {},
   "outputs": [],
   "source": []
  }
 ],
 "metadata": {
  "kernelspec": {
   "display_name": "Python 3",
   "language": "python",
   "name": "python3"
  },
  "language_info": {
   "codemirror_mode": {
    "name": "ipython",
    "version": 3
   },
   "file_extension": ".py",
   "mimetype": "text/x-python",
   "name": "python",
   "nbconvert_exporter": "python",
   "pygments_lexer": "ipython3",
   "version": "3.8.8"
  }
 },
 "nbformat": 4,
 "nbformat_minor": 5
}
