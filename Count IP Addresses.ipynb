{
 "cells": [
  {
   "cell_type": "markdown",
   "id": "a4636e06",
   "metadata": {},
   "source": [
    "Implement a function that receives two IPv4 addresses, and returns the number of addresses between them (including the first one, excluding the last one).\n",
    "\n",
    "All inputs will be valid IPv4 addresses in the form of strings. The last address will always be greater than the first one."
   ]
  },
  {
   "cell_type": "code",
   "execution_count": 93,
   "id": "a5f0b3c4",
   "metadata": {},
   "outputs": [],
   "source": [
    "def ips_between(start, end):\n",
    "    numbers_start = [int(x) for x in start.split('.')]\n",
    "    numbers_end = [int(x) for x in end.split('.')]\n",
    "    \n",
    "    total_addresses = 0\n",
    "    multiplier = 256**3\n",
    "    \n",
    "    for i in range(0, len(numbers_start)):\n",
    "        \n",
    "        addresses = numbers_end[i] - numbers_start[i]\n",
    "        total_addresses += addresses * multiplier\n",
    "\n",
    "        multiplier /= 256\n",
    "\n",
    "    return total_addresses"
   ]
  },
  {
   "cell_type": "code",
   "execution_count": 90,
   "id": "5e6b83d6",
   "metadata": {},
   "outputs": [
    {
     "data": {
      "text/plain": [
       "256.0"
      ]
     },
     "execution_count": 90,
     "metadata": {},
     "output_type": "execute_result"
    }
   ],
   "source": [
    "ips_between(\"10.0.0.0\", \"10.0.1.0\")"
   ]
  },
  {
   "cell_type": "code",
   "execution_count": 91,
   "id": "483652e1",
   "metadata": {},
   "outputs": [
    {
     "data": {
      "text/plain": [
       "50.0"
      ]
     },
     "execution_count": 91,
     "metadata": {},
     "output_type": "execute_result"
    }
   ],
   "source": [
    "ips_between(\"10.0.0.0\", \"10.0.0.50\")"
   ]
  },
  {
   "cell_type": "code",
   "execution_count": 92,
   "id": "c23423cc",
   "metadata": {},
   "outputs": [
    {
     "data": {
      "text/plain": [
       "246.0"
      ]
     },
     "execution_count": 92,
     "metadata": {},
     "output_type": "execute_result"
    }
   ],
   "source": [
    "ips_between(\"20.0.0.10\", \"20.0.1.0\")"
   ]
  },
  {
   "cell_type": "code",
   "execution_count": null,
   "id": "0240de3f",
   "metadata": {},
   "outputs": [],
   "source": []
  },
  {
   "cell_type": "code",
   "execution_count": null,
   "id": "40ac6639",
   "metadata": {},
   "outputs": [],
   "source": []
  }
 ],
 "metadata": {
  "kernelspec": {
   "display_name": "Python 3",
   "language": "python",
   "name": "python3"
  },
  "language_info": {
   "codemirror_mode": {
    "name": "ipython",
    "version": 3
   },
   "file_extension": ".py",
   "mimetype": "text/x-python",
   "name": "python",
   "nbconvert_exporter": "python",
   "pygments_lexer": "ipython3",
   "version": "3.8.8"
  }
 },
 "nbformat": 4,
 "nbformat_minor": 5
}
